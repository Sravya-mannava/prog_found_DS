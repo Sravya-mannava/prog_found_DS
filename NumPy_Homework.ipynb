{
  "cells": [
    {
      "cell_type": "markdown",
      "metadata": {
        "id": "view-in-github",
        "colab_type": "text"
      },
      "source": [
        "<a href=\"https://colab.research.google.com/github/Sravya-mannava/prog_found_DS/blob/main/NumPy_Homework.ipynb\" target=\"_parent\"><img src=\"https://colab.research.google.com/assets/colab-badge.svg\" alt=\"Open In Colab\"/></a>"
      ]
    },
    {
      "cell_type": "markdown",
      "id": "56bcd222",
      "metadata": {
        "id": "56bcd222"
      },
      "source": [
        "### NumPy Homework\n",
        "\n",
        "28 points\n",
        "\n",
        "Due by midnight September 22, 2023\n",
        "\n",
        "**To avoid erasing the sample output, please insert a new cell above the sample output**. Write your script inside the new cell and run. Verify your output with the sample output. The fish image can be downloaded from the Blackboard\n",
        "\n",
        "For homework submission, please rename your file using the following format\n",
        "\n",
        "`firstname_familyname_NumPy_Homework.ipynb`"
      ]
    },
    {
      "cell_type": "code",
      "execution_count": null,
      "id": "3076cb9d",
      "metadata": {
        "id": "3076cb9d"
      },
      "outputs": [],
      "source": [
        "# please enter your name and 700# in this cell\n",
        "\n",
        "\n"
      ]
    },
    {
      "cell_type": "markdown",
      "id": "628d0254",
      "metadata": {
        "id": "628d0254"
      },
      "source": [
        "### Task 0\n",
        "Import the numpy package as np"
      ]
    },
    {
      "cell_type": "code",
      "execution_count": 3,
      "id": "c9370f82",
      "metadata": {
        "id": "c9370f82"
      },
      "outputs": [],
      "source": [
        "import numpy as np"
      ]
    },
    {
      "cell_type": "markdown",
      "id": "568fa9ad",
      "metadata": {
        "id": "568fa9ad"
      },
      "source": [
        "### Task 1\n",
        "Create an numpy array of 10 nines"
      ]
    },
    {
      "cell_type": "code",
      "source": [
        "na = np.ones(10)*9\n",
        "np.full((10),9,dtype = 'float64')"
      ],
      "metadata": {
        "colab": {
          "base_uri": "https://localhost:8080/"
        },
        "id": "ozJCXH7AWjLF",
        "outputId": "266e1817-e438-4955-9013-1c95b046c25f"
      },
      "id": "ozJCXH7AWjLF",
      "execution_count": 2,
      "outputs": [
        {
          "output_type": "execute_result",
          "data": {
            "text/plain": [
              "array([9., 9., 9., 9., 9., 9., 9., 9., 9., 9.])"
            ]
          },
          "metadata": {},
          "execution_count": 2
        }
      ]
    },
    {
      "cell_type": "code",
      "execution_count": null,
      "id": "eb44f651",
      "metadata": {
        "id": "eb44f651",
        "outputId": "f18eb6a6-2a6f-42ce-8346-dfaf919d42d7"
      },
      "outputs": [
        {
          "data": {
            "text/plain": [
              "array([9., 9., 9., 9., 9., 9., 9., 9., 9., 9.])"
            ]
          },
          "execution_count": 2,
          "metadata": {},
          "output_type": "execute_result"
        }
      ],
      "source": []
    },
    {
      "cell_type": "markdown",
      "id": "83a32e2c",
      "metadata": {
        "id": "83a32e2c"
      },
      "source": [
        "### Task 2\n",
        "Create an array of all the odd integers ranging from 11 to 49"
      ]
    },
    {
      "cell_type": "code",
      "source": [
        "np.arange(11,50,2)"
      ],
      "metadata": {
        "colab": {
          "base_uri": "https://localhost:8080/"
        },
        "id": "S_DkcDF-Wx5Y",
        "outputId": "33f1060f-8d57-402a-ec33-3646f56e52fd"
      },
      "id": "S_DkcDF-Wx5Y",
      "execution_count": 4,
      "outputs": [
        {
          "output_type": "execute_result",
          "data": {
            "text/plain": [
              "array([11, 13, 15, 17, 19, 21, 23, 25, 27, 29, 31, 33, 35, 37, 39, 41, 43,\n",
              "       45, 47, 49])"
            ]
          },
          "metadata": {},
          "execution_count": 4
        }
      ]
    },
    {
      "cell_type": "code",
      "execution_count": null,
      "id": "8a5711d6",
      "metadata": {
        "id": "8a5711d6",
        "outputId": "cc484785-f2b3-46dd-ac62-aeff3d22c250"
      },
      "outputs": [
        {
          "data": {
            "text/plain": [
              "array([11, 13, 15, 17, 19, 21, 23, 25, 27, 29, 31, 33, 35, 37, 39, 41, 43,\n",
              "       45, 47, 49])"
            ]
          },
          "execution_count": 3,
          "metadata": {},
          "output_type": "execute_result"
        }
      ],
      "source": []
    },
    {
      "cell_type": "markdown",
      "id": "c8119736",
      "metadata": {
        "id": "c8119736"
      },
      "source": [
        "### Task 3\n",
        "Create a $10 \\times 10$ numpy array with values ranging from 0.01 to 1.0 with step 0.01"
      ]
    },
    {
      "cell_type": "code",
      "source": [
        "np.linspace(0.01,1.0,100).reshape((10,10))"
      ],
      "metadata": {
        "colab": {
          "base_uri": "https://localhost:8080/"
        },
        "id": "K_QQ469oW-7M",
        "outputId": "0789aeea-6105-4144-a3ab-c789081e894e"
      },
      "id": "K_QQ469oW-7M",
      "execution_count": 5,
      "outputs": [
        {
          "output_type": "execute_result",
          "data": {
            "text/plain": [
              "array([[0.01, 0.02, 0.03, 0.04, 0.05, 0.06, 0.07, 0.08, 0.09, 0.1 ],\n",
              "       [0.11, 0.12, 0.13, 0.14, 0.15, 0.16, 0.17, 0.18, 0.19, 0.2 ],\n",
              "       [0.21, 0.22, 0.23, 0.24, 0.25, 0.26, 0.27, 0.28, 0.29, 0.3 ],\n",
              "       [0.31, 0.32, 0.33, 0.34, 0.35, 0.36, 0.37, 0.38, 0.39, 0.4 ],\n",
              "       [0.41, 0.42, 0.43, 0.44, 0.45, 0.46, 0.47, 0.48, 0.49, 0.5 ],\n",
              "       [0.51, 0.52, 0.53, 0.54, 0.55, 0.56, 0.57, 0.58, 0.59, 0.6 ],\n",
              "       [0.61, 0.62, 0.63, 0.64, 0.65, 0.66, 0.67, 0.68, 0.69, 0.7 ],\n",
              "       [0.71, 0.72, 0.73, 0.74, 0.75, 0.76, 0.77, 0.78, 0.79, 0.8 ],\n",
              "       [0.81, 0.82, 0.83, 0.84, 0.85, 0.86, 0.87, 0.88, 0.89, 0.9 ],\n",
              "       [0.91, 0.92, 0.93, 0.94, 0.95, 0.96, 0.97, 0.98, 0.99, 1.  ]])"
            ]
          },
          "metadata": {},
          "execution_count": 5
        }
      ]
    },
    {
      "cell_type": "code",
      "execution_count": null,
      "id": "a3e91733",
      "metadata": {
        "id": "a3e91733",
        "outputId": "eb050038-16d5-456c-eb9d-4664b71b36b1"
      },
      "outputs": [
        {
          "data": {
            "text/plain": [
              "array([[0.01, 0.02, 0.03, 0.04, 0.05, 0.06, 0.07, 0.08, 0.09, 0.1 ],\n",
              "       [0.11, 0.12, 0.13, 0.14, 0.15, 0.16, 0.17, 0.18, 0.19, 0.2 ],\n",
              "       [0.21, 0.22, 0.23, 0.24, 0.25, 0.26, 0.27, 0.28, 0.29, 0.3 ],\n",
              "       [0.31, 0.32, 0.33, 0.34, 0.35, 0.36, 0.37, 0.38, 0.39, 0.4 ],\n",
              "       [0.41, 0.42, 0.43, 0.44, 0.45, 0.46, 0.47, 0.48, 0.49, 0.5 ],\n",
              "       [0.51, 0.52, 0.53, 0.54, 0.55, 0.56, 0.57, 0.58, 0.59, 0.6 ],\n",
              "       [0.61, 0.62, 0.63, 0.64, 0.65, 0.66, 0.67, 0.68, 0.69, 0.7 ],\n",
              "       [0.71, 0.72, 0.73, 0.74, 0.75, 0.76, 0.77, 0.78, 0.79, 0.8 ],\n",
              "       [0.81, 0.82, 0.83, 0.84, 0.85, 0.86, 0.87, 0.88, 0.89, 0.9 ],\n",
              "       [0.91, 0.92, 0.93, 0.94, 0.95, 0.96, 0.97, 0.98, 0.99, 1.  ]])"
            ]
          },
          "execution_count": 4,
          "metadata": {},
          "output_type": "execute_result"
        }
      ],
      "source": []
    },
    {
      "cell_type": "markdown",
      "id": "ab0399ee",
      "metadata": {
        "id": "ab0399ee"
      },
      "source": [
        "### Task 4\n",
        "Generate a numpy array of 12 random numbers sampled from a standard normal distribution. Please use a random seed 123"
      ]
    },
    {
      "cell_type": "code",
      "source": [
        "np.random.seed(123)\n",
        "np.random.normal(0,1,12)"
      ],
      "metadata": {
        "colab": {
          "base_uri": "https://localhost:8080/"
        },
        "id": "aoftsW4-XE05",
        "outputId": "73afd990-7e67-4986-b809-d995ba549307"
      },
      "id": "aoftsW4-XE05",
      "execution_count": 6,
      "outputs": [
        {
          "output_type": "execute_result",
          "data": {
            "text/plain": [
              "array([-1.0856306 ,  0.99734545,  0.2829785 , -1.50629471, -0.57860025,\n",
              "        1.65143654, -2.42667924, -0.42891263,  1.26593626, -0.8667404 ,\n",
              "       -0.67888615, -0.09470897])"
            ]
          },
          "metadata": {},
          "execution_count": 6
        }
      ]
    },
    {
      "cell_type": "code",
      "execution_count": null,
      "id": "17d85755",
      "metadata": {
        "id": "17d85755",
        "outputId": "94dc0c8a-a5bc-48ca-ed27-857ae49f4eb4"
      },
      "outputs": [
        {
          "data": {
            "text/plain": [
              "array([-1.0856306 ,  0.99734545,  0.2829785 , -1.50629471, -0.57860025,\n",
              "        1.65143654, -2.42667924, -0.42891263,  1.26593626, -0.8667404 ,\n",
              "       -0.67888615, -0.09470897])"
            ]
          },
          "execution_count": 5,
          "metadata": {},
          "output_type": "execute_result"
        }
      ],
      "source": []
    },
    {
      "cell_type": "markdown",
      "id": "03bfff3d",
      "metadata": {
        "id": "03bfff3d"
      },
      "source": [
        "### Task 5\n",
        "Create a numpy array of 20 linearly spaced points between 0 and 1"
      ]
    },
    {
      "cell_type": "code",
      "source": [
        "np.linspace(0,1,20)"
      ],
      "metadata": {
        "colab": {
          "base_uri": "https://localhost:8080/"
        },
        "id": "M5p1LkeEXhs3",
        "outputId": "439bc49a-0f73-4038-bad6-3614690fb55c"
      },
      "id": "M5p1LkeEXhs3",
      "execution_count": 7,
      "outputs": [
        {
          "output_type": "execute_result",
          "data": {
            "text/plain": [
              "array([0.        , 0.05263158, 0.10526316, 0.15789474, 0.21052632,\n",
              "       0.26315789, 0.31578947, 0.36842105, 0.42105263, 0.47368421,\n",
              "       0.52631579, 0.57894737, 0.63157895, 0.68421053, 0.73684211,\n",
              "       0.78947368, 0.84210526, 0.89473684, 0.94736842, 1.        ])"
            ]
          },
          "metadata": {},
          "execution_count": 7
        }
      ]
    },
    {
      "cell_type": "code",
      "execution_count": null,
      "id": "aae26f6d",
      "metadata": {
        "id": "aae26f6d",
        "outputId": "081d87a5-cd26-455c-b1ad-31ea465763ae"
      },
      "outputs": [
        {
          "data": {
            "text/plain": [
              "array([0.        , 0.05263158, 0.10526316, 0.15789474, 0.21052632,\n",
              "       0.26315789, 0.31578947, 0.36842105, 0.42105263, 0.47368421,\n",
              "       0.52631579, 0.57894737, 0.63157895, 0.68421053, 0.73684211,\n",
              "       0.78947368, 0.84210526, 0.89473684, 0.94736842, 1.        ])"
            ]
          },
          "execution_count": 6,
          "metadata": {},
          "output_type": "execute_result"
        }
      ],
      "source": []
    },
    {
      "cell_type": "markdown",
      "id": "29f50789",
      "metadata": {
        "id": "29f50789"
      },
      "source": [
        "### Task 6\n",
        "Create a $6 \\times 6$ two-dimensional array `m` with integers ranging from 1 to 36"
      ]
    },
    {
      "cell_type": "code",
      "source": [
        "m=np.arange(1, 37, 1).reshape(6,6)\n",
        "m"
      ],
      "metadata": {
        "colab": {
          "base_uri": "https://localhost:8080/"
        },
        "id": "xSmgIlSEXpaf",
        "outputId": "5a62dcad-0a25-4da9-f86b-2555a576da20"
      },
      "id": "xSmgIlSEXpaf",
      "execution_count": 8,
      "outputs": [
        {
          "output_type": "execute_result",
          "data": {
            "text/plain": [
              "array([[ 1,  2,  3,  4,  5,  6],\n",
              "       [ 7,  8,  9, 10, 11, 12],\n",
              "       [13, 14, 15, 16, 17, 18],\n",
              "       [19, 20, 21, 22, 23, 24],\n",
              "       [25, 26, 27, 28, 29, 30],\n",
              "       [31, 32, 33, 34, 35, 36]])"
            ]
          },
          "metadata": {},
          "execution_count": 8
        }
      ]
    },
    {
      "cell_type": "code",
      "execution_count": null,
      "id": "94ed9c39",
      "metadata": {
        "id": "94ed9c39",
        "outputId": "b9c87bb1-c74a-4756-8105-76483aa8448f"
      },
      "outputs": [
        {
          "data": {
            "text/plain": [
              "array([[ 1,  2,  3,  4,  5,  6],\n",
              "       [ 7,  8,  9, 10, 11, 12],\n",
              "       [13, 14, 15, 16, 17, 18],\n",
              "       [19, 20, 21, 22, 23, 24],\n",
              "       [25, 26, 27, 28, 29, 30],\n",
              "       [31, 32, 33, 34, 35, 36]])"
            ]
          },
          "execution_count": 7,
          "metadata": {},
          "output_type": "execute_result"
        }
      ],
      "source": []
    },
    {
      "cell_type": "markdown",
      "id": "22b6da06",
      "metadata": {
        "id": "22b6da06"
      },
      "source": [
        "### Task 7\n",
        "Using indexing and slicing to extract the following array from array `m`"
      ]
    },
    {
      "cell_type": "code",
      "source": [
        "m[2:,1:]"
      ],
      "metadata": {
        "colab": {
          "base_uri": "https://localhost:8080/"
        },
        "id": "PpTjTowBX1Rm",
        "outputId": "a5ca4218-f33b-42eb-c34b-910db52e3a59"
      },
      "id": "PpTjTowBX1Rm",
      "execution_count": 9,
      "outputs": [
        {
          "output_type": "execute_result",
          "data": {
            "text/plain": [
              "array([[14, 15, 16, 17, 18],\n",
              "       [20, 21, 22, 23, 24],\n",
              "       [26, 27, 28, 29, 30],\n",
              "       [32, 33, 34, 35, 36]])"
            ]
          },
          "metadata": {},
          "execution_count": 9
        }
      ]
    },
    {
      "cell_type": "code",
      "execution_count": null,
      "id": "3be39dca",
      "metadata": {
        "id": "3be39dca",
        "outputId": "7d736a20-f707-4463-abaa-5493fe300414"
      },
      "outputs": [
        {
          "data": {
            "text/plain": [
              "array([[14, 15, 16, 17, 18],\n",
              "       [20, 21, 22, 23, 24],\n",
              "       [26, 27, 28, 29, 30],\n",
              "       [32, 33, 34, 35, 36]])"
            ]
          },
          "execution_count": 8,
          "metadata": {},
          "output_type": "execute_result"
        }
      ],
      "source": []
    },
    {
      "cell_type": "markdown",
      "id": "455f6098",
      "metadata": {
        "id": "455f6098"
      },
      "source": [
        "### Task 8\n",
        "Using indexing and slicing to extract the following array from array `m`"
      ]
    },
    {
      "cell_type": "code",
      "source": [
        "m[:3,1:2]"
      ],
      "metadata": {
        "colab": {
          "base_uri": "https://localhost:8080/"
        },
        "id": "ENq89d1xX8fE",
        "outputId": "ae20c199-809c-43d7-b969-60b8349d30bf"
      },
      "id": "ENq89d1xX8fE",
      "execution_count": 10,
      "outputs": [
        {
          "output_type": "execute_result",
          "data": {
            "text/plain": [
              "array([[ 2],\n",
              "       [ 8],\n",
              "       [14]])"
            ]
          },
          "metadata": {},
          "execution_count": 10
        }
      ]
    },
    {
      "cell_type": "code",
      "execution_count": null,
      "id": "e87bb473",
      "metadata": {
        "id": "e87bb473",
        "outputId": "eeb32eca-149b-4f65-a9b8-4b2a0a1d120b"
      },
      "outputs": [
        {
          "data": {
            "text/plain": [
              "array([[ 2],\n",
              "       [ 8],\n",
              "       [14]])"
            ]
          },
          "execution_count": 9,
          "metadata": {},
          "output_type": "execute_result"
        }
      ],
      "source": []
    },
    {
      "cell_type": "markdown",
      "id": "dd38c377",
      "metadata": {
        "id": "dd38c377"
      },
      "source": [
        "### Task 9\n",
        "Using indexing and slicing to extract the following array from array `m`"
      ]
    },
    {
      "cell_type": "code",
      "source": [
        "m\n",
        "s=m[::-2, ::1]\n",
        "s[:2,::1]"
      ],
      "metadata": {
        "colab": {
          "base_uri": "https://localhost:8080/"
        },
        "id": "ExkSwcFNYBv9",
        "outputId": "a1294102-b78a-45a3-d847-da456d448e5e"
      },
      "id": "ExkSwcFNYBv9",
      "execution_count": 11,
      "outputs": [
        {
          "output_type": "execute_result",
          "data": {
            "text/plain": [
              "array([[31, 32, 33, 34, 35, 36],\n",
              "       [19, 20, 21, 22, 23, 24]])"
            ]
          },
          "metadata": {},
          "execution_count": 11
        }
      ]
    },
    {
      "cell_type": "code",
      "execution_count": null,
      "id": "52e41963",
      "metadata": {
        "id": "52e41963",
        "outputId": "b129e65d-f0e1-4ac7-8e55-5dd6da25acd3"
      },
      "outputs": [
        {
          "data": {
            "text/plain": [
              "array([[31, 32, 33, 34, 35, 36],\n",
              "       [19, 20, 21, 22, 23, 24]])"
            ]
          },
          "execution_count": 10,
          "metadata": {},
          "output_type": "execute_result"
        }
      ],
      "source": []
    },
    {
      "cell_type": "markdown",
      "id": "a815078b",
      "metadata": {
        "id": "a815078b"
      },
      "source": [
        "### Task 10\n",
        "Using indexing and slicing to extract the following array from array `m`"
      ]
    },
    {
      "cell_type": "code",
      "source": [
        "s=m[::-1,::-1]\n",
        "s[:3,::1]"
      ],
      "metadata": {
        "colab": {
          "base_uri": "https://localhost:8080/"
        },
        "id": "OvJ7bUrWYRGp",
        "outputId": "9832a3f3-65d4-49a8-f5d7-f17a96c5c69c"
      },
      "id": "OvJ7bUrWYRGp",
      "execution_count": 12,
      "outputs": [
        {
          "output_type": "execute_result",
          "data": {
            "text/plain": [
              "array([[36, 35, 34, 33, 32, 31],\n",
              "       [30, 29, 28, 27, 26, 25],\n",
              "       [24, 23, 22, 21, 20, 19]])"
            ]
          },
          "metadata": {},
          "execution_count": 12
        }
      ]
    },
    {
      "cell_type": "code",
      "execution_count": null,
      "id": "773846c6",
      "metadata": {
        "id": "773846c6",
        "outputId": "b9d6f584-83b8-4e85-fa73-177611240cef"
      },
      "outputs": [
        {
          "data": {
            "text/plain": [
              "array([[36, 35, 34, 33, 32, 31],\n",
              "       [30, 29, 28, 27, 26, 25],\n",
              "       [24, 23, 22, 21, 20, 19]])"
            ]
          },
          "execution_count": 11,
          "metadata": {},
          "output_type": "execute_result"
        }
      ],
      "source": []
    },
    {
      "cell_type": "markdown",
      "id": "a72f2bb0",
      "metadata": {
        "id": "a72f2bb0"
      },
      "source": [
        "### Task 11\n",
        "Get the sum of the values in array `m`"
      ]
    },
    {
      "cell_type": "code",
      "source": [
        "m.sum()"
      ],
      "metadata": {
        "colab": {
          "base_uri": "https://localhost:8080/"
        },
        "id": "i4gdai6YYZnm",
        "outputId": "1f8c39cf-a29d-4164-f110-191fccecdc33"
      },
      "id": "i4gdai6YYZnm",
      "execution_count": 13,
      "outputs": [
        {
          "output_type": "execute_result",
          "data": {
            "text/plain": [
              "666"
            ]
          },
          "metadata": {},
          "execution_count": 13
        }
      ]
    },
    {
      "cell_type": "code",
      "execution_count": null,
      "id": "605b1c53",
      "metadata": {
        "id": "605b1c53",
        "outputId": "8c290291-d8d8-4cbc-c34a-6b463dffae34"
      },
      "outputs": [
        {
          "data": {
            "text/plain": [
              "666"
            ]
          },
          "execution_count": 12,
          "metadata": {},
          "output_type": "execute_result"
        }
      ],
      "source": []
    },
    {
      "cell_type": "markdown",
      "id": "f458647e",
      "metadata": {
        "id": "f458647e"
      },
      "source": [
        "### Task 12\n",
        "Get the sum of all the columns in array `m`"
      ]
    },
    {
      "cell_type": "code",
      "source": [
        "m\n",
        "m.sum(axis=0)"
      ],
      "metadata": {
        "colab": {
          "base_uri": "https://localhost:8080/"
        },
        "id": "QdcLUkzTYmI7",
        "outputId": "6816f41b-4e0d-4d00-fa6b-188b530e9b2d"
      },
      "id": "QdcLUkzTYmI7",
      "execution_count": 14,
      "outputs": [
        {
          "output_type": "execute_result",
          "data": {
            "text/plain": [
              "array([ 96, 102, 108, 114, 120, 126])"
            ]
          },
          "metadata": {},
          "execution_count": 14
        }
      ]
    },
    {
      "cell_type": "code",
      "execution_count": null,
      "id": "c804ad44",
      "metadata": {
        "id": "c804ad44",
        "outputId": "62ed457c-bdb6-4151-8487-036007385273"
      },
      "outputs": [
        {
          "data": {
            "text/plain": [
              "array([ 96, 102, 108, 114, 120, 126])"
            ]
          },
          "execution_count": 13,
          "metadata": {},
          "output_type": "execute_result"
        }
      ],
      "source": []
    },
    {
      "cell_type": "markdown",
      "id": "304d8096",
      "metadata": {
        "id": "304d8096"
      },
      "source": [
        "### Task 13\n",
        "Select all even numbers from array `m`"
      ]
    },
    {
      "cell_type": "code",
      "source": [
        "m[m % 2 == 0]"
      ],
      "metadata": {
        "colab": {
          "base_uri": "https://localhost:8080/"
        },
        "id": "Qnp13NSrYrsg",
        "outputId": "3864dd01-2c75-4e0b-90f1-7b00ca3e9b02"
      },
      "id": "Qnp13NSrYrsg",
      "execution_count": 15,
      "outputs": [
        {
          "output_type": "execute_result",
          "data": {
            "text/plain": [
              "array([ 2,  4,  6,  8, 10, 12, 14, 16, 18, 20, 22, 24, 26, 28, 30, 32, 34,\n",
              "       36])"
            ]
          },
          "metadata": {},
          "execution_count": 15
        }
      ]
    },
    {
      "cell_type": "code",
      "execution_count": null,
      "id": "af12804c",
      "metadata": {
        "id": "af12804c",
        "outputId": "e2329717-5b0a-4d03-a843-b2cf730fa220"
      },
      "outputs": [
        {
          "data": {
            "text/plain": [
              "array([ 2,  4,  6,  8, 10, 12, 14, 16, 18, 20, 22, 24, 26, 28, 30, 32, 34,\n",
              "       36])"
            ]
          },
          "execution_count": 14,
          "metadata": {},
          "output_type": "execute_result"
        }
      ],
      "source": []
    },
    {
      "cell_type": "markdown",
      "id": "b0b39b93",
      "metadata": {
        "id": "b0b39b93"
      },
      "source": [
        "### Task 14\n",
        "Create a $3 \\times 3 \\times 5$ three-dimensional array with integers from `[0, 44]`"
      ]
    },
    {
      "cell_type": "code",
      "source": [
        "Grid=np.arange(45)\n",
        "Grid.shape=(3,3,5)\n",
        "Grid"
      ],
      "metadata": {
        "colab": {
          "base_uri": "https://localhost:8080/"
        },
        "id": "19AKwJ-JY07I",
        "outputId": "5feb7956-759c-495c-ba18-f9c60e880548"
      },
      "id": "19AKwJ-JY07I",
      "execution_count": 16,
      "outputs": [
        {
          "output_type": "execute_result",
          "data": {
            "text/plain": [
              "array([[[ 0,  1,  2,  3,  4],\n",
              "        [ 5,  6,  7,  8,  9],\n",
              "        [10, 11, 12, 13, 14]],\n",
              "\n",
              "       [[15, 16, 17, 18, 19],\n",
              "        [20, 21, 22, 23, 24],\n",
              "        [25, 26, 27, 28, 29]],\n",
              "\n",
              "       [[30, 31, 32, 33, 34],\n",
              "        [35, 36, 37, 38, 39],\n",
              "        [40, 41, 42, 43, 44]]])"
            ]
          },
          "metadata": {},
          "execution_count": 16
        }
      ]
    },
    {
      "cell_type": "code",
      "execution_count": null,
      "id": "b4315f1b",
      "metadata": {
        "id": "b4315f1b",
        "outputId": "5ecf85fe-bae2-423e-9d96-34f171259f70"
      },
      "outputs": [
        {
          "data": {
            "text/plain": [
              "array([[[ 0,  1,  2,  3,  4],\n",
              "        [ 5,  6,  7,  8,  9],\n",
              "        [10, 11, 12, 13, 14]],\n",
              "\n",
              "       [[15, 16, 17, 18, 19],\n",
              "        [20, 21, 22, 23, 24],\n",
              "        [25, 26, 27, 28, 29]],\n",
              "\n",
              "       [[30, 31, 32, 33, 34],\n",
              "        [35, 36, 37, 38, 39],\n",
              "        [40, 41, 42, 43, 44]]])"
            ]
          },
          "execution_count": 15,
          "metadata": {},
          "output_type": "execute_result"
        }
      ],
      "source": []
    },
    {
      "cell_type": "markdown",
      "id": "95c76f5d",
      "metadata": {
        "id": "95c76f5d"
      },
      "source": [
        "### Task 15\n",
        "Replace the elements within the two red boxes to 1\n",
        "\n",
        "<div>\n",
        "<img src=\"attachment:f1.png\" width=\"210\" align=\"left\"/>\n",
        "</div>"
      ]
    },
    {
      "cell_type": "code",
      "source": [
        "Grid[1,::2,1:4]=1\n",
        "Grid"
      ],
      "metadata": {
        "colab": {
          "base_uri": "https://localhost:8080/"
        },
        "id": "98pSBQlnZqL0",
        "outputId": "60c37c42-9fa8-4aa7-deb3-03cdc68d1279"
      },
      "id": "98pSBQlnZqL0",
      "execution_count": 17,
      "outputs": [
        {
          "output_type": "execute_result",
          "data": {
            "text/plain": [
              "array([[[ 0,  1,  2,  3,  4],\n",
              "        [ 5,  6,  7,  8,  9],\n",
              "        [10, 11, 12, 13, 14]],\n",
              "\n",
              "       [[15,  1,  1,  1, 19],\n",
              "        [20, 21, 22, 23, 24],\n",
              "        [25,  1,  1,  1, 29]],\n",
              "\n",
              "       [[30, 31, 32, 33, 34],\n",
              "        [35, 36, 37, 38, 39],\n",
              "        [40, 41, 42, 43, 44]]])"
            ]
          },
          "metadata": {},
          "execution_count": 17
        }
      ]
    },
    {
      "cell_type": "code",
      "execution_count": null,
      "id": "a485de44",
      "metadata": {
        "id": "a485de44",
        "outputId": "9b638d6f-aca5-4e1f-dd4f-628da6aa79c8"
      },
      "outputs": [
        {
          "data": {
            "text/plain": [
              "array([[[ 0,  1,  2,  3,  4],\n",
              "        [ 5,  6,  7,  8,  9],\n",
              "        [10, 11, 12, 13, 14]],\n",
              "\n",
              "       [[15,  1,  1,  1, 19],\n",
              "        [20, 21, 22, 23, 24],\n",
              "        [25,  1,  1,  1, 29]],\n",
              "\n",
              "       [[30, 31, 32, 33, 34],\n",
              "        [35, 36, 37, 38, 39],\n",
              "        [40, 41, 42, 43, 44]]])"
            ]
          },
          "execution_count": 16,
          "metadata": {},
          "output_type": "execute_result"
        }
      ],
      "source": []
    },
    {
      "cell_type": "markdown",
      "id": "b4a98ad7",
      "metadata": {
        "id": "b4a98ad7"
      },
      "source": [
        "### Task 16\n",
        "Replace all the even numbers in the array to 0"
      ]
    },
    {
      "cell_type": "code",
      "source": [
        "Grid[Grid % 2 == 0] = 0\n",
        "Grid"
      ],
      "metadata": {
        "colab": {
          "base_uri": "https://localhost:8080/"
        },
        "id": "Uzu1SSdLZz7t",
        "outputId": "c52399ed-f768-4ff0-fd1e-1e87aac75308"
      },
      "id": "Uzu1SSdLZz7t",
      "execution_count": 18,
      "outputs": [
        {
          "output_type": "execute_result",
          "data": {
            "text/plain": [
              "array([[[ 0,  1,  0,  3,  0],\n",
              "        [ 5,  0,  7,  0,  9],\n",
              "        [ 0, 11,  0, 13,  0]],\n",
              "\n",
              "       [[15,  1,  1,  1, 19],\n",
              "        [ 0, 21,  0, 23,  0],\n",
              "        [25,  1,  1,  1, 29]],\n",
              "\n",
              "       [[ 0, 31,  0, 33,  0],\n",
              "        [35,  0, 37,  0, 39],\n",
              "        [ 0, 41,  0, 43,  0]]])"
            ]
          },
          "metadata": {},
          "execution_count": 18
        }
      ]
    },
    {
      "cell_type": "code",
      "execution_count": null,
      "id": "57c985b2",
      "metadata": {
        "id": "57c985b2",
        "outputId": "18fd8346-ab01-4a86-c46c-0a779281bc99"
      },
      "outputs": [
        {
          "data": {
            "text/plain": [
              "array([[[ 0,  1,  0,  3,  0],\n",
              "        [ 5,  0,  7,  0,  9],\n",
              "        [ 0, 11,  0, 13,  0]],\n",
              "\n",
              "       [[15,  1,  1,  1, 19],\n",
              "        [ 0, 21,  0, 23,  0],\n",
              "        [25,  1,  1,  1, 29]],\n",
              "\n",
              "       [[ 0, 31,  0, 33,  0],\n",
              "        [35,  0, 37,  0, 39],\n",
              "        [ 0, 41,  0, 43,  0]]])"
            ]
          },
          "execution_count": 17,
          "metadata": {},
          "output_type": "execute_result"
        }
      ],
      "source": []
    },
    {
      "cell_type": "markdown",
      "id": "b565697f",
      "metadata": {
        "id": "b565697f"
      },
      "source": [
        "### Task 17\n",
        "Replace all the odd numbers in the array to 1"
      ]
    },
    {
      "cell_type": "code",
      "source": [
        "Grid[Grid %2 != 0]=1\n",
        "Grid"
      ],
      "metadata": {
        "colab": {
          "base_uri": "https://localhost:8080/"
        },
        "id": "lx-HKB-SaLBb",
        "outputId": "80813530-4790-42b3-8c21-6bcf7615f38e"
      },
      "id": "lx-HKB-SaLBb",
      "execution_count": 19,
      "outputs": [
        {
          "output_type": "execute_result",
          "data": {
            "text/plain": [
              "array([[[0, 1, 0, 1, 0],\n",
              "        [1, 0, 1, 0, 1],\n",
              "        [0, 1, 0, 1, 0]],\n",
              "\n",
              "       [[1, 1, 1, 1, 1],\n",
              "        [0, 1, 0, 1, 0],\n",
              "        [1, 1, 1, 1, 1]],\n",
              "\n",
              "       [[0, 1, 0, 1, 0],\n",
              "        [1, 0, 1, 0, 1],\n",
              "        [0, 1, 0, 1, 0]]])"
            ]
          },
          "metadata": {},
          "execution_count": 19
        }
      ]
    },
    {
      "cell_type": "code",
      "execution_count": null,
      "id": "cd14e05c",
      "metadata": {
        "id": "cd14e05c",
        "outputId": "363df6ac-925a-4994-d6ad-a49ed56aa701"
      },
      "outputs": [
        {
          "data": {
            "text/plain": [
              "array([[[0, 1, 0, 1, 0],\n",
              "        [1, 0, 1, 0, 1],\n",
              "        [0, 1, 0, 1, 0]],\n",
              "\n",
              "       [[1, 1, 1, 1, 1],\n",
              "        [0, 1, 0, 1, 0],\n",
              "        [1, 1, 1, 1, 1]],\n",
              "\n",
              "       [[0, 1, 0, 1, 0],\n",
              "        [1, 0, 1, 0, 1],\n",
              "        [0, 1, 0, 1, 0]]])"
            ]
          },
          "execution_count": 18,
          "metadata": {},
          "output_type": "execute_result"
        }
      ],
      "source": []
    },
    {
      "cell_type": "markdown",
      "id": "bb91ab11",
      "metadata": {
        "id": "bb91ab11"
      },
      "source": [
        "### Task 18\n",
        "Change the array shape to $9 \\times 5$"
      ]
    },
    {
      "cell_type": "code",
      "source": [
        "Grid.shape=(9,5)\n",
        "Grid"
      ],
      "metadata": {
        "colab": {
          "base_uri": "https://localhost:8080/"
        },
        "id": "rL6_0Rkxalzs",
        "outputId": "c65e8432-0983-4236-acfe-457dfeaa0ba5"
      },
      "id": "rL6_0Rkxalzs",
      "execution_count": 20,
      "outputs": [
        {
          "output_type": "execute_result",
          "data": {
            "text/plain": [
              "array([[0, 1, 0, 1, 0],\n",
              "       [1, 0, 1, 0, 1],\n",
              "       [0, 1, 0, 1, 0],\n",
              "       [1, 1, 1, 1, 1],\n",
              "       [0, 1, 0, 1, 0],\n",
              "       [1, 1, 1, 1, 1],\n",
              "       [0, 1, 0, 1, 0],\n",
              "       [1, 0, 1, 0, 1],\n",
              "       [0, 1, 0, 1, 0]])"
            ]
          },
          "metadata": {},
          "execution_count": 20
        }
      ]
    },
    {
      "cell_type": "code",
      "execution_count": null,
      "id": "1a68e327",
      "metadata": {
        "id": "1a68e327",
        "outputId": "46f7fa73-9060-4633-c737-2b0b8b5bd8fb"
      },
      "outputs": [
        {
          "data": {
            "text/plain": [
              "array([[0, 1, 0, 1, 0],\n",
              "       [1, 0, 1, 0, 1],\n",
              "       [0, 1, 0, 1, 0],\n",
              "       [1, 1, 1, 1, 1],\n",
              "       [0, 1, 0, 1, 0],\n",
              "       [1, 1, 1, 1, 1],\n",
              "       [0, 1, 0, 1, 0],\n",
              "       [1, 0, 1, 0, 1],\n",
              "       [0, 1, 0, 1, 0]])"
            ]
          },
          "execution_count": 19,
          "metadata": {},
          "output_type": "execute_result"
        }
      ],
      "source": []
    },
    {
      "cell_type": "markdown",
      "id": "3cab9326",
      "metadata": {
        "id": "3cab9326"
      },
      "source": [
        "### Task 19\n",
        "Creates two $2 \\times 4$ matrices with integers from `[0, 7]`"
      ]
    },
    {
      "cell_type": "code",
      "source": [
        "a1=np.arange(8).reshape(2,4)\n",
        "a2=np.arange(8).reshape(2,4)\n",
        "\n",
        "print(a1)\n",
        "print(a2)"
      ],
      "metadata": {
        "colab": {
          "base_uri": "https://localhost:8080/"
        },
        "id": "NZuXztgUawCp",
        "outputId": "14b734fb-39cf-4c80-dab9-9b790a556208"
      },
      "id": "NZuXztgUawCp",
      "execution_count": 21,
      "outputs": [
        {
          "output_type": "stream",
          "name": "stdout",
          "text": [
            "[[0 1 2 3]\n",
            " [4 5 6 7]]\n",
            "[[0 1 2 3]\n",
            " [4 5 6 7]]\n"
          ]
        }
      ]
    },
    {
      "cell_type": "code",
      "execution_count": null,
      "id": "ad1727fa",
      "metadata": {
        "id": "ad1727fa",
        "outputId": "8fa8d017-fe4e-432f-b85c-aeb014f14693"
      },
      "outputs": [
        {
          "name": "stdout",
          "output_type": "stream",
          "text": [
            "[[0 1 2 3]\n",
            " [4 5 6 7]]\n",
            "[[0 1 2 3]\n",
            " [4 5 6 7]]\n"
          ]
        }
      ],
      "source": []
    },
    {
      "cell_type": "markdown",
      "id": "9265c47f",
      "metadata": {
        "id": "9265c47f"
      },
      "source": [
        "### Task 20\n",
        "Vertically stack the two matrices"
      ]
    },
    {
      "cell_type": "code",
      "source": [
        "VM=np.vstack([a1,a2])\n",
        "VM"
      ],
      "metadata": {
        "colab": {
          "base_uri": "https://localhost:8080/"
        },
        "id": "oWdz3a2Ia8JW",
        "outputId": "6fd15aa0-ec91-4960-c8b9-52d229dcaa46"
      },
      "id": "oWdz3a2Ia8JW",
      "execution_count": 23,
      "outputs": [
        {
          "output_type": "execute_result",
          "data": {
            "text/plain": [
              "array([[0, 1, 2, 3],\n",
              "       [4, 5, 6, 7],\n",
              "       [0, 1, 2, 3],\n",
              "       [4, 5, 6, 7]])"
            ]
          },
          "metadata": {},
          "execution_count": 23
        }
      ]
    },
    {
      "cell_type": "code",
      "execution_count": null,
      "id": "317e679f",
      "metadata": {
        "id": "317e679f",
        "outputId": "d156d4df-82d3-49ba-8a25-31157b8f604f"
      },
      "outputs": [
        {
          "data": {
            "text/plain": [
              "array([[0, 1, 2, 3],\n",
              "       [4, 5, 6, 7],\n",
              "       [0, 1, 2, 3],\n",
              "       [4, 5, 6, 7]])"
            ]
          },
          "execution_count": 21,
          "metadata": {},
          "output_type": "execute_result"
        }
      ],
      "source": []
    },
    {
      "cell_type": "markdown",
      "id": "77721a71",
      "metadata": {
        "id": "77721a71"
      },
      "source": [
        "### Task 21\n",
        "Split the big matrix into two $4 \\times 2$ small matrices"
      ]
    },
    {
      "cell_type": "code",
      "source": [
        "l,r=np.hsplit(matrix,[2])\n",
        "print(l)\n",
        "print(r)"
      ],
      "metadata": {
        "colab": {
          "base_uri": "https://localhost:8080/"
        },
        "id": "NUA7CVeGbevy",
        "outputId": "19a6e3e5-4ff9-40f1-e4d0-c5819c5c4a78"
      },
      "id": "NUA7CVeGbevy",
      "execution_count": 24,
      "outputs": [
        {
          "output_type": "stream",
          "name": "stdout",
          "text": [
            "[[0 1]\n",
            " [4 5]\n",
            " [0 1]\n",
            " [4 5]]\n",
            "[[2 3]\n",
            " [6 7]\n",
            " [2 3]\n",
            " [6 7]]\n"
          ]
        }
      ]
    },
    {
      "cell_type": "code",
      "execution_count": null,
      "id": "3789856a",
      "metadata": {
        "id": "3789856a",
        "outputId": "a5297e9b-ac7f-4f87-87a3-74e3df97b2b1"
      },
      "outputs": [
        {
          "name": "stdout",
          "output_type": "stream",
          "text": [
            "[[0 1]\n",
            " [4 5]\n",
            " [0 1]\n",
            " [4 5]]\n",
            "[[2 3]\n",
            " [6 7]\n",
            " [2 3]\n",
            " [6 7]]\n"
          ]
        }
      ],
      "source": []
    },
    {
      "cell_type": "markdown",
      "id": "898f6e0a",
      "metadata": {
        "id": "898f6e0a"
      },
      "source": [
        "### Task 22\n",
        "Duplicate one of the resulting matrices once horizontally"
      ]
    },
    {
      "cell_type": "code",
      "source": [
        "np.tile(r,2)"
      ],
      "metadata": {
        "colab": {
          "base_uri": "https://localhost:8080/"
        },
        "id": "gUhe32LUbocT",
        "outputId": "d3afd335-5fab-4b8c-93c0-108a99d609ba"
      },
      "id": "gUhe32LUbocT",
      "execution_count": 26,
      "outputs": [
        {
          "output_type": "execute_result",
          "data": {
            "text/plain": [
              "array([[2, 3, 2, 3],\n",
              "       [6, 7, 6, 7],\n",
              "       [2, 3, 2, 3],\n",
              "       [6, 7, 6, 7]])"
            ]
          },
          "metadata": {},
          "execution_count": 26
        }
      ]
    },
    {
      "cell_type": "code",
      "execution_count": null,
      "id": "b53ebe4a",
      "metadata": {
        "id": "b53ebe4a",
        "outputId": "ca5d240f-1396-4ce8-9bdf-c834e61d50c0"
      },
      "outputs": [
        {
          "data": {
            "text/plain": [
              "array([[2, 3, 2, 3],\n",
              "       [6, 7, 6, 7],\n",
              "       [2, 3, 2, 3],\n",
              "       [6, 7, 6, 7]])"
            ]
          },
          "execution_count": 27,
          "metadata": {},
          "output_type": "execute_result"
        }
      ],
      "source": []
    },
    {
      "cell_type": "markdown",
      "id": "a23bd513",
      "metadata": {
        "id": "a23bd513"
      },
      "source": [
        "### Task 23\n",
        "Create an array shown below\n",
        "\n",
        "<div>\n",
        "<img src=\"attachment:f1.png\" width=\"200\" align=\"left\"/>\n",
        "</div>"
      ]
    },
    {
      "cell_type": "code",
      "source": [
        "a=np.arange(4,dtype='float')\n",
        "a.shape = (1,4)\n",
        "np.tile(a,(8,1))"
      ],
      "metadata": {
        "colab": {
          "base_uri": "https://localhost:8080/"
        },
        "id": "ZYV13y4Rbzdq",
        "outputId": "435f6db4-ceaa-4215-ea2a-4936921a51b9"
      },
      "id": "ZYV13y4Rbzdq",
      "execution_count": 28,
      "outputs": [
        {
          "output_type": "execute_result",
          "data": {
            "text/plain": [
              "array([[0., 1., 2., 3.],\n",
              "       [0., 1., 2., 3.],\n",
              "       [0., 1., 2., 3.],\n",
              "       [0., 1., 2., 3.],\n",
              "       [0., 1., 2., 3.],\n",
              "       [0., 1., 2., 3.],\n",
              "       [0., 1., 2., 3.],\n",
              "       [0., 1., 2., 3.]])"
            ]
          },
          "metadata": {},
          "execution_count": 28
        }
      ]
    },
    {
      "cell_type": "code",
      "execution_count": null,
      "id": "d6d73150",
      "metadata": {
        "id": "d6d73150",
        "outputId": "ced1cbf9-0801-4d53-8828-fb1886d5a66e"
      },
      "outputs": [
        {
          "data": {
            "text/plain": [
              "array([[0., 1., 2., 3.],\n",
              "       [0., 1., 2., 3.],\n",
              "       [0., 1., 2., 3.],\n",
              "       [0., 1., 2., 3.],\n",
              "       [0., 1., 2., 3.],\n",
              "       [0., 1., 2., 3.],\n",
              "       [0., 1., 2., 3.],\n",
              "       [0., 1., 2., 3.]])"
            ]
          },
          "execution_count": 28,
          "metadata": {},
          "output_type": "execute_result"
        }
      ],
      "source": []
    },
    {
      "cell_type": "markdown",
      "id": "52e8d5e9",
      "metadata": {
        "id": "52e8d5e9"
      },
      "source": [
        "### Task 24\n",
        "Generate a numpy array of 12 random numbers sampled from a standard normal distribution. Please use a random seed 123. Find the first three smallest values from the array"
      ]
    },
    {
      "cell_type": "code",
      "source": [
        "np.random.seed(123)\n",
        "nd=np.random.normal(0,1,12)\n",
        "nd=np.partition(x,3)\n",
        "nd[0:3]"
      ],
      "metadata": {
        "colab": {
          "base_uri": "https://localhost:8080/"
        },
        "id": "6sQ0EfKVcIyp",
        "outputId": "e0c5551a-88a4-4340-d1ad-4f5b70f80a70"
      },
      "id": "6sQ0EfKVcIyp",
      "execution_count": 30,
      "outputs": [
        {
          "output_type": "execute_result",
          "data": {
            "text/plain": [
              "array([-2.42667924, -1.50629471, -1.0856306 ])"
            ]
          },
          "metadata": {},
          "execution_count": 30
        }
      ]
    },
    {
      "cell_type": "code",
      "execution_count": null,
      "id": "25d872b7",
      "metadata": {
        "id": "25d872b7",
        "outputId": "c3c3a802-7920-4b35-e71f-cbfe70a84652"
      },
      "outputs": [
        {
          "data": {
            "text/plain": [
              "array([-2.42667924, -1.50629471, -1.0856306 ])"
            ]
          },
          "execution_count": 29,
          "metadata": {},
          "output_type": "execute_result"
        }
      ],
      "source": []
    },
    {
      "cell_type": "markdown",
      "id": "bfe3081a",
      "metadata": {
        "id": "bfe3081a"
      },
      "source": [
        "### Task 25\n",
        "Generate a numpy array with integer from `1, 2, 3, ..., 30`. Without using loop, find the number of values in the array which are divisible by 2 or 3"
      ]
    },
    {
      "cell_type": "code",
      "source": [
        "a4=np.arange(1,31)\n",
        "a5=np.zeros(30)\n",
        "a5=np.where((a4 % 2 == 0) | (a4 % 3 == 0),1,0)\n",
        "np.sum(a5)"
      ],
      "metadata": {
        "colab": {
          "base_uri": "https://localhost:8080/"
        },
        "id": "b5lqNGcRcZGa",
        "outputId": "e3addb0b-2590-4f69-9a35-4b0d17992521"
      },
      "id": "b5lqNGcRcZGa",
      "execution_count": 31,
      "outputs": [
        {
          "output_type": "execute_result",
          "data": {
            "text/plain": [
              "20"
            ]
          },
          "metadata": {},
          "execution_count": 31
        }
      ]
    },
    {
      "cell_type": "code",
      "execution_count": null,
      "id": "7ea20e39",
      "metadata": {
        "id": "7ea20e39",
        "outputId": "29bf9d16-5c1f-4743-a800-322120087091"
      },
      "outputs": [
        {
          "data": {
            "text/plain": [
              "20"
            ]
          },
          "execution_count": 30,
          "metadata": {},
          "output_type": "execute_result"
        }
      ],
      "source": []
    },
    {
      "cell_type": "markdown",
      "id": "a573a273",
      "metadata": {
        "id": "a573a273"
      },
      "source": [
        "### Task 26\n",
        "Generate a $6 \\times 5$ numpy array with integer from `1, 2, 3, ..., 30`. Without using loop, set the even number in the array by 1 and odd number in the array by -1"
      ]
    },
    {
      "cell_type": "code",
      "source": [
        "a=np.arange(1,31).reshape(6,5)\n",
        "np.where(a % 2 == 0,1,-1)"
      ],
      "metadata": {
        "colab": {
          "base_uri": "https://localhost:8080/"
        },
        "id": "IhO4cf1ocqP6",
        "outputId": "73ce0fb1-c4f4-4946-ec92-7c089dfb6439"
      },
      "id": "IhO4cf1ocqP6",
      "execution_count": 32,
      "outputs": [
        {
          "output_type": "execute_result",
          "data": {
            "text/plain": [
              "array([[-1,  1, -1,  1, -1],\n",
              "       [ 1, -1,  1, -1,  1],\n",
              "       [-1,  1, -1,  1, -1],\n",
              "       [ 1, -1,  1, -1,  1],\n",
              "       [-1,  1, -1,  1, -1],\n",
              "       [ 1, -1,  1, -1,  1]])"
            ]
          },
          "metadata": {},
          "execution_count": 32
        }
      ]
    },
    {
      "cell_type": "code",
      "execution_count": null,
      "id": "d9204e5f",
      "metadata": {
        "scrolled": true,
        "id": "d9204e5f",
        "outputId": "c1f4c8b7-10ad-4544-bca2-3e9e7dc015cf"
      },
      "outputs": [
        {
          "data": {
            "text/plain": [
              "array([[-1,  1, -1,  1, -1],\n",
              "       [ 1, -1,  1, -1,  1],\n",
              "       [-1,  1, -1,  1, -1],\n",
              "       [ 1, -1,  1, -1,  1],\n",
              "       [-1,  1, -1,  1, -1],\n",
              "       [ 1, -1,  1, -1,  1]])"
            ]
          },
          "execution_count": 31,
          "metadata": {},
          "output_type": "execute_result"
        }
      ],
      "source": []
    },
    {
      "cell_type": "markdown",
      "id": "c12fe94a",
      "metadata": {
        "id": "c12fe94a"
      },
      "source": [
        "### Task 27\n",
        "Create the following effect for the fish image (flip the left and right sides of the image)"
      ]
    },
    {
      "cell_type": "code",
      "source": [
        "!pip3 install pillow"
      ],
      "metadata": {
        "colab": {
          "base_uri": "https://localhost:8080/"
        },
        "id": "cEuqVk7KdnbI",
        "outputId": "b549b766-4480-46e2-b97e-8c5b82f93db0"
      },
      "id": "cEuqVk7KdnbI",
      "execution_count": 33,
      "outputs": [
        {
          "output_type": "stream",
          "name": "stdout",
          "text": [
            "Requirement already satisfied: pillow in /usr/local/lib/python3.10/dist-packages (9.4.0)\n"
          ]
        }
      ]
    },
    {
      "cell_type": "code",
      "source": [
        "from PIL import Image\n",
        "i = Image.open('fish.jpeg')\n",
        "i"
      ],
      "metadata": {
        "colab": {
          "base_uri": "https://localhost:8080/",
          "height": 259
        },
        "id": "oVKIv7l9c8kx",
        "outputId": "3588381f-d067-4bd8-fdde-15a533e022ea"
      },
      "id": "oVKIv7l9c8kx",
      "execution_count": 36,
      "outputs": [
        {
          "output_type": "execute_result",
          "data": {
            "text/plain": [
              "<PIL.JpegImagePlugin.JpegImageFile image mode=RGB size=326x242>"
            ],
            "image/png": "[encoded data removed]"
          },
          "metadata": {},
          "execution_count": 36
        }
      ]
    },
    {
      "cell_type": "code",
      "execution_count": null,
      "id": "5ae9272d",
      "metadata": {
        "id": "5ae9272d",
        "outputId": "b0ba9fba-a2a7-4f66-e749-aa3195c1b5ad"
      },
      "outputs": [
        {
          "data": {
            "image/png": "[encoded data removed]",
            "text/plain": [
              "<PIL.Image.Image image mode=RGB size=326x242 at 0x1B79FE43FA0>"
            ]
          },
          "execution_count": 10,
          "metadata": {},
          "output_type": "execute_result"
        }
      ],
      "source": []
    },
    {
      "cell_type": "markdown",
      "id": "335f6a9a",
      "metadata": {
        "id": "335f6a9a"
      },
      "source": [
        "### Task 28\n",
        "Given a $2 \\times 3$ numpy array\n",
        "```python\n",
        "arr = array([[1, 2, 3],\n",
        "             [4, 5, 6]])\n",
        "```\n",
        ", produce the following array using array concatenation\n",
        "```python\n",
        "arr = array([[1, 2, 3, 1, 2, 3],\n",
        "             [4, 5, 6, 4, 5, 6],\n",
        "             [1, 2, 3, 1, 2, 3],\n",
        "             [4, 5, 6, 4, 5, 6]])\n",
        "```"
      ]
    },
    {
      "cell_type": "code",
      "source": [
        "import numpy as np\n",
        "a = np.array([[1, 2, 3], [4, 5, 6]])\n",
        "r = np.concatenate((a, a), axis=0)\n",
        "r = np.concatenate((r, np.vstack((a, a))), axis=1)\n",
        "print(r)"
      ],
      "metadata": {
        "colab": {
          "base_uri": "https://localhost:8080/"
        },
        "id": "3fMsgWxxeL9I",
        "outputId": "0e914ef8-94e6-4db3-e3c6-f58452af4319"
      },
      "id": "3fMsgWxxeL9I",
      "execution_count": 38,
      "outputs": [
        {
          "output_type": "stream",
          "name": "stdout",
          "text": [
            "[[1 2 3 1 2 3]\n",
            " [4 5 6 4 5 6]\n",
            " [1 2 3 1 2 3]\n",
            " [4 5 6 4 5 6]]\n"
          ]
        }
      ]
    },
    {
      "cell_type": "code",
      "source": [],
      "metadata": {
        "id": "p6_CJWkieM5_"
      },
      "id": "p6_CJWkieM5_",
      "execution_count": null,
      "outputs": []
    }
  ],
  "metadata": {
    "kernelspec": {
      "display_name": "Python 3 (ipykernel)",
      "language": "python",
      "name": "python3"
    },
    "language_info": {
      "codemirror_mode": {
        "name": "ipython",
        "version": 3
      },
      "file_extension": ".py",
      "mimetype": "text/x-python",
      "name": "python",
      "nbconvert_exporter": "python",
      "pygments_lexer": "ipython3",
      "version": "3.9.13"
    },
    "colab": {
      "provenance": [],
      "include_colab_link": true
    }
  },
  "nbformat": 4,
  "nbformat_minor": 5
}