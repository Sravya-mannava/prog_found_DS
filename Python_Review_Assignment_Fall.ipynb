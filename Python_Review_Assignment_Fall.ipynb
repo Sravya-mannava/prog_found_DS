{
  "cells": [
    {
      "cell_type": "markdown",
      "metadata": {
        "id": "view-in-github",
        "colab_type": "text"
      },
      "source": [
        "<a href=\"https://colab.research.google.com/github/Sravya-mannava/prog_found_DS/blob/main/Python_Review_Assignment_Fall.ipynb\" target=\"_parent\"><img src=\"https://colab.research.google.com/assets/colab-badge.svg\" alt=\"Open In Colab\"/></a>"
      ]
    },
    {
      "cell_type": "markdown",
      "id": "ff141806",
      "metadata": {
        "id": "ff141806"
      },
      "source": [
        "### Python Review Assignment\n",
        "16 points\n",
        "\n",
        "Due by midnight September 8, 2023\n",
        "\n",
        "\n",
        "**To avoid erasing the sample output, please insert a new cell above the sample output**. Write your script inside the new cell and run. Verify your output with the sample output\n",
        "\n",
        "For lab submission, please rename your file using the following format\n",
        "\n",
        "`firstname_familyname_python_review.ipynb`"
      ]
    },
    {
      "cell_type": "code",
      "execution_count": null,
      "id": "283eac74",
      "metadata": {
        "id": "283eac74"
      },
      "outputs": [],
      "source": [
        "# please enter your name and 700# in this cell\n",
        "#Name : Sravya Mannava\n",
        "#700 : 700747750\n",
        "\n",
        "\n"
      ]
    },
    {
      "cell_type": "markdown",
      "id": "a42732b2",
      "metadata": {
        "id": "a42732b2"
      },
      "source": [
        "### Task 1\n",
        "Define a string `s1` with content 'Good morning John'. Count the number of characters in `s1`"
      ]
    },
    {
      "cell_type": "code",
      "execution_count": null,
      "id": "655c39e8",
      "metadata": {
        "id": "655c39e8"
      },
      "outputs": [],
      "source": [
        "s1 = 'Good morning John'\n",
        "\n"
      ]
    },
    {
      "cell_type": "code",
      "execution_count": null,
      "id": "c29b4bae",
      "metadata": {
        "id": "c29b4bae",
        "outputId": "2e791dcc-e478-4aa5-cf3c-0032213ab270",
        "colab": {
          "base_uri": "https://localhost:8080/"
        }
      },
      "outputs": [
        {
          "output_type": "execute_result",
          "data": {
            "text/plain": [
              "17"
            ]
          },
          "metadata": {},
          "execution_count": 8
        }
      ],
      "source": [
        "len(s1)"
      ]
    },
    {
      "cell_type": "code",
      "source": [],
      "metadata": {
        "colab": {
          "base_uri": "https://localhost:8080/"
        },
        "id": "Z27PdCnaF-XL",
        "outputId": "0765b072-3604-420b-e9cc-48ef2221e9c5"
      },
      "id": "Z27PdCnaF-XL",
      "execution_count": null,
      "outputs": [
        {
          "output_type": "execute_result",
          "data": {
            "text/plain": [
              "17"
            ]
          },
          "metadata": {},
          "execution_count": 12
        }
      ]
    },
    {
      "cell_type": "markdown",
      "id": "5d91c61d",
      "metadata": {
        "id": "5d91c61d"
      },
      "source": [
        "### Task 2\n",
        "Check if the word 'morning' is contained in `s1`"
      ]
    },
    {
      "cell_type": "code",
      "execution_count": null,
      "id": "11e47041",
      "metadata": {
        "id": "11e47041",
        "colab": {
          "base_uri": "https://localhost:8080/"
        },
        "outputId": "718aa165-2e67-4621-c6bb-eb71536b48a0"
      },
      "outputs": [
        {
          "output_type": "stream",
          "name": "stdout",
          "text": [
            "True\n"
          ]
        }
      ],
      "source": [
        "if 'morning'in s1:\n",
        "  print(True)"
      ]
    },
    {
      "cell_type": "code",
      "execution_count": null,
      "id": "e22979de",
      "metadata": {
        "id": "e22979de",
        "outputId": "998607d0-12c5-448a-d1a1-fe67bb628fc0"
      },
      "outputs": [
        {
          "data": {
            "text/plain": [
              "True"
            ]
          },
          "execution_count": 7,
          "metadata": {},
          "output_type": "execute_result"
        }
      ],
      "source": []
    },
    {
      "cell_type": "markdown",
      "id": "a8e990f2",
      "metadata": {
        "id": "a8e990f2"
      },
      "source": [
        "### Task 3\n",
        "Use a function to replace 'John' with 'David' in `s1`. Show the content of the new string"
      ]
    },
    {
      "cell_type": "code",
      "execution_count": null,
      "id": "2ceadeb8",
      "metadata": {
        "id": "2ceadeb8",
        "colab": {
          "base_uri": "https://localhost:8080/",
          "height": 36
        },
        "outputId": "5929a32f-95ea-4a78-d83b-ae69f8aaebde"
      },
      "outputs": [
        {
          "output_type": "execute_result",
          "data": {
            "text/plain": [
              "'Good morning David'"
            ],
            "application/vnd.google.colaboratory.intrinsic+json": {
              "type": "string"
            }
          },
          "metadata": {},
          "execution_count": 11
        }
      ],
      "source": [
        "s1.replace('John', 'David')"
      ]
    },
    {
      "cell_type": "code",
      "execution_count": null,
      "id": "133c3b38",
      "metadata": {
        "id": "133c3b38",
        "outputId": "910a89c5-470f-4937-bb24-349bb3554e30"
      },
      "outputs": [
        {
          "data": {
            "text/plain": [
              "'Good morning David'"
            ]
          },
          "execution_count": 8,
          "metadata": {},
          "output_type": "execute_result"
        }
      ],
      "source": []
    },
    {
      "cell_type": "markdown",
      "id": "fccce95f",
      "metadata": {
        "id": "fccce95f"
      },
      "source": [
        "### Task 4\n",
        "Use your UCM email address to create a string s2. Extract the string `ucmo.edu`"
      ]
    },
    {
      "cell_type": "code",
      "execution_count": null,
      "id": "1a4662b4",
      "metadata": {
        "id": "1a4662b4",
        "colab": {
          "base_uri": "https://localhost:8080/",
          "height": 36
        },
        "outputId": "fcfaa8bd-8b10-4ccd-9607-fea6a2862a71"
      },
      "outputs": [
        {
          "output_type": "execute_result",
          "data": {
            "text/plain": [
              "'ucmo.edu'"
            ],
            "application/vnd.google.colaboratory.intrinsic+json": {
              "type": "string"
            }
          },
          "metadata": {},
          "execution_count": 14
        }
      ],
      "source": [
        "s2 = 'sxm77501@ucmo.edu'.split('@')\n",
        "s2[1]\n"
      ]
    },
    {
      "cell_type": "code",
      "execution_count": null,
      "id": "61c5f20a",
      "metadata": {
        "id": "61c5f20a",
        "outputId": "dc6a759d-d174-4f11-c299-5ae039e145df"
      },
      "outputs": [
        {
          "data": {
            "text/plain": [
              "'ucmo.edu'"
            ]
          },
          "execution_count": 17,
          "metadata": {},
          "output_type": "execute_result"
        }
      ],
      "source": []
    },
    {
      "cell_type": "markdown",
      "id": "c839354c",
      "metadata": {
        "id": "c839354c"
      },
      "source": [
        "### Task 5\n",
        "Create a list x with integers from 1 to 30. Create a new list y which only conatins the odd numbers from list x. You are not allowed to mannually type out the lists"
      ]
    },
    {
      "cell_type": "code",
      "execution_count": null,
      "id": "f1012d6b",
      "metadata": {
        "id": "f1012d6b",
        "colab": {
          "base_uri": "https://localhost:8080/"
        },
        "outputId": "1577bd70-abac-4218-f22c-8234cceb47a5"
      },
      "outputs": [
        {
          "output_type": "stream",
          "name": "stdout",
          "text": [
            "[1, 3, 5, 7, 9, 11, 13, 15, 17, 19, 21, 23, 25, 27, 29] \n"
          ]
        }
      ],
      "source": [
        "x = list(range(1, 30))\n",
        "y = list()\n",
        "for i in x:\n",
        "  if i%2 != 0:\n",
        "    y.append(i)\n",
        "print(y,'')"
      ]
    },
    {
      "cell_type": "code",
      "execution_count": null,
      "id": "885ffa3f",
      "metadata": {
        "id": "885ffa3f",
        "outputId": "81720233-25ef-4846-e6ff-d40975eb408e"
      },
      "outputs": [
        {
          "data": {
            "text/plain": [
              "[1, 3, 5, 7, 9, 11, 13, 15, 17, 19, 21, 23, 25, 27, 29]"
            ]
          },
          "execution_count": 11,
          "metadata": {},
          "output_type": "execute_result"
        }
      ],
      "source": []
    },
    {
      "cell_type": "markdown",
      "id": "d8b8ef7b",
      "metadata": {
        "id": "d8b8ef7b"
      },
      "source": [
        "### Task 6\n",
        "Create a new list z with each element is a squre of the corresponding element from list y. You are not allowed to mannually type out the list"
      ]
    },
    {
      "cell_type": "code",
      "execution_count": null,
      "id": "36e95073",
      "metadata": {
        "id": "36e95073",
        "colab": {
          "base_uri": "https://localhost:8080/"
        },
        "outputId": "3c3fa923-dbf5-4dc5-e8d1-d5f2f9e5ab1c"
      },
      "outputs": [
        {
          "output_type": "stream",
          "name": "stdout",
          "text": [
            "[1, 9, 25, 49, 81, 121, 169, 225, 289, 361, 441, 529, 625, 729, 841]\n"
          ]
        }
      ],
      "source": [
        "z = [num ** 2 for num in y]\n",
        "\n",
        "print(z)"
      ]
    },
    {
      "cell_type": "code",
      "execution_count": null,
      "id": "eb22212d",
      "metadata": {
        "id": "eb22212d",
        "outputId": "ffcb659a-8733-4919-b2c1-95b4b6ba73e2"
      },
      "outputs": [
        {
          "data": {
            "text/plain": [
              "[1, 9, 25, 49, 81, 121, 169, 225, 289, 361, 441, 529, 625, 729, 841]"
            ]
          },
          "execution_count": 12,
          "metadata": {},
          "output_type": "execute_result"
        }
      ],
      "source": []
    },
    {
      "cell_type": "markdown",
      "id": "148610bf",
      "metadata": {
        "id": "148610bf"
      },
      "source": [
        "### Task 7\n",
        "Extract `[729, 625, 529, 441, 361, 289, 225, 169]` from list z. You are not allowed to mannually type out the list"
      ]
    },
    {
      "cell_type": "code",
      "execution_count": null,
      "id": "ac19d388",
      "metadata": {
        "id": "ac19d388",
        "colab": {
          "base_uri": "https://localhost:8080/"
        },
        "outputId": "768fe508-832a-4980-9a52-2f1bf88e0897"
      },
      "outputs": [
        {
          "output_type": "execute_result",
          "data": {
            "text/plain": [
              "[729, 625, 529, 441, 361, 289, 225, 169]"
            ]
          },
          "metadata": {},
          "execution_count": 99
        }
      ],
      "source": [
        "SE = z[6:-1]\n",
        "SE.sort(reverse= True)\n",
        "SE\n",
        "\n"
      ]
    },
    {
      "cell_type": "code",
      "execution_count": null,
      "id": "d1e261c4",
      "metadata": {
        "id": "d1e261c4",
        "outputId": "a68c6e2d-b181-459e-b6ff-e538a9851bb9"
      },
      "outputs": [
        {
          "data": {
            "text/plain": [
              "[729, 625, 529, 441, 361, 289, 225, 169]"
            ]
          },
          "execution_count": 14,
          "metadata": {},
          "output_type": "execute_result"
        }
      ],
      "source": []
    },
    {
      "cell_type": "markdown",
      "id": "faa59cf8",
      "metadata": {
        "id": "faa59cf8"
      },
      "source": [
        "### Task 8\n",
        "Reverse the order of z. You are not allowed to mannually type out the list"
      ]
    },
    {
      "cell_type": "code",
      "execution_count": null,
      "id": "442059cc",
      "metadata": {
        "id": "442059cc",
        "colab": {
          "base_uri": "https://localhost:8080/"
        },
        "outputId": "2f89b517-6343-4698-87f6-0b9f66c31f94"
      },
      "outputs": [
        {
          "output_type": "execute_result",
          "data": {
            "text/plain": [
              "[841, 729, 625, 529, 441, 361, 289, 225, 169, 121, 81, 49, 25, 9, 1]"
            ]
          },
          "metadata": {},
          "execution_count": 102
        }
      ],
      "source": [
        "z.sort(reverse= True)\n",
        "z"
      ]
    },
    {
      "cell_type": "code",
      "execution_count": null,
      "id": "c4468042",
      "metadata": {
        "id": "c4468042",
        "outputId": "f675e9db-7bbd-4d02-b434-804c424ce26c"
      },
      "outputs": [
        {
          "data": {
            "text/plain": [
              "[841, 729, 625, 529, 441, 361, 289, 225, 169, 121, 81, 49, 25, 9, 1]"
            ]
          },
          "execution_count": 13,
          "metadata": {},
          "output_type": "execute_result"
        }
      ],
      "source": []
    },
    {
      "cell_type": "markdown",
      "id": "a5f86fed",
      "metadata": {
        "id": "a5f86fed"
      },
      "source": [
        "### Task 9\n",
        "Given the following list, extract the string 'Get Me'"
      ]
    },
    {
      "cell_type": "code",
      "execution_count": null,
      "id": "99b61963",
      "metadata": {
        "id": "99b61963",
        "colab": {
          "base_uri": "https://localhost:8080/",
          "height": 36
        },
        "outputId": "5481575d-7192-4e36-930e-7481bfc6a530"
      },
      "outputs": [
        {
          "output_type": "execute_result",
          "data": {
            "text/plain": [
              "'Get Me'"
            ],
            "application/vnd.google.colaboratory.intrinsic+json": {
              "type": "string"
            }
          },
          "metadata": {},
          "execution_count": 110
        }
      ],
      "source": [
        "lst = [1, 2, [3, 4], [5, [100, 200, ['Get Me']], 300, 11], 1, 9]\n",
        "a=lst[3][1][2][0]\n",
        "a\n",
        "\n",
        "\n",
        "\n"
      ]
    },
    {
      "cell_type": "code",
      "execution_count": null,
      "id": "0e8f451a",
      "metadata": {
        "id": "0e8f451a",
        "outputId": "32648a07-0452-4731-b6ef-07186719ef37"
      },
      "outputs": [
        {
          "data": {
            "text/plain": [
              "'Get Me'"
            ]
          },
          "execution_count": 22,
          "metadata": {},
          "output_type": "execute_result"
        }
      ],
      "source": []
    },
    {
      "cell_type": "markdown",
      "id": "4a4ba88f",
      "metadata": {
        "id": "4a4ba88f"
      },
      "source": [
        "### Task 10\n",
        "Sort the following list of strings by their lengths. You are not allowed to mannually type out the list"
      ]
    },
    {
      "cell_type": "code",
      "execution_count": null,
      "id": "a7a3ff33",
      "metadata": {
        "id": "a7a3ff33",
        "colab": {
          "base_uri": "https://localhost:8080/"
        },
        "outputId": "912fc631-0047-4545-857d-d3748d0ef0d9"
      },
      "outputs": [
        {
          "output_type": "stream",
          "name": "stdout",
          "text": [
            "['a', 'bb', 'ccc', 'dddd', 'eeeee', 'ffffff', 'ggggggg']\n"
          ]
        }
      ],
      "source": [
        "x = ['ccc', 'dddd', 'bb', 'ggggggg', 'a', 'eeeee', 'ffffff']\n",
        "\n",
        "sorted_list = sorted(x, key=lambda i: len(i))\n",
        "\n",
        "print(sorted_list)"
      ]
    },
    {
      "cell_type": "code",
      "execution_count": null,
      "id": "477f0495",
      "metadata": {
        "id": "477f0495",
        "outputId": "97bc30f1-4d3b-458f-f01f-d530ad2f7b41"
      },
      "outputs": [
        {
          "data": {
            "text/plain": [
              "['a', 'bb', 'ccc', 'dddd', 'eeeee', 'ffffff', 'ggggggg']"
            ]
          },
          "execution_count": 19,
          "metadata": {},
          "output_type": "execute_result"
        }
      ],
      "source": []
    },
    {
      "cell_type": "markdown",
      "id": "b51c2254",
      "metadata": {
        "id": "b51c2254"
      },
      "source": [
        "### Task 11\n",
        "Extract the string 'Get Me' from the following dictionary d"
      ]
    },
    {
      "cell_type": "code",
      "execution_count": null,
      "id": "8a43df80",
      "metadata": {
        "id": "8a43df80",
        "colab": {
          "base_uri": "https://localhost:8080/",
          "height": 36
        },
        "outputId": "6d4344de-a446-41c8-e99b-25f29bb0b1b9"
      },
      "outputs": [
        {
          "output_type": "execute_result",
          "data": {
            "text/plain": [
              "'Get Me'"
            ],
            "application/vnd.google.colaboratory.intrinsic+json": {
              "type": "string"
            }
          },
          "metadata": {},
          "execution_count": 114
        }
      ],
      "source": [
        "d = {'k1':[1, 2, 3, {'tricky':['oh', 'man', 'crazy', {'target':[1, 2, 3, 'Get Me']}]}]}\n",
        "D = d['k1'][3]['tricky'][3]['target'][3]\n",
        "D"
      ]
    },
    {
      "cell_type": "code",
      "execution_count": null,
      "id": "4184c435",
      "metadata": {
        "id": "4184c435",
        "outputId": "55dae89b-4131-4cf9-c849-29908913ee49"
      },
      "outputs": [
        {
          "data": {
            "text/plain": [
              "'Get Me'"
            ]
          },
          "execution_count": 21,
          "metadata": {},
          "output_type": "execute_result"
        }
      ],
      "source": []
    },
    {
      "cell_type": "markdown",
      "id": "8fa3e925",
      "metadata": {
        "id": "8fa3e925"
      },
      "source": [
        "### Task 12\n",
        "Use lambda expressions and the `filter()` function to filter out words from the following list that don't start with the letter 's'"
      ]
    },
    {
      "cell_type": "code",
      "execution_count": 16,
      "id": "4a023ebc",
      "metadata": {
        "id": "4a023ebc",
        "colab": {
          "base_uri": "https://localhost:8080/"
        },
        "outputId": "dc4e88d1-566b-4631-f4bb-cf93e83bd04c"
      },
      "outputs": [
        {
          "output_type": "stream",
          "name": "stdout",
          "text": [
            "['apple', 'banana', 'kiwi']\n"
          ]
        }
      ],
      "source": [
        "seq = ['soup', 'apple', 'salad', 'banana', 'spaghetti', 'spinach', 'kiwi']\n",
        "i = filter(lambda x:(x[0]!='s'), seq)\n",
        "word_list= list(i)\n",
        "print(word_list)\n"
      ]
    },
    {
      "cell_type": "code",
      "execution_count": null,
      "id": "9c90a4f6",
      "metadata": {
        "id": "9c90a4f6",
        "outputId": "6b8d8b69-4313-4ac6-9af9-a1cf41c923fc"
      },
      "outputs": [
        {
          "data": {
            "text/plain": [
              "['apple', 'banana', 'kiwi']"
            ]
          },
          "execution_count": 1,
          "metadata": {},
          "output_type": "execute_result"
        }
      ],
      "source": []
    },
    {
      "cell_type": "markdown",
      "id": "66db071e",
      "metadata": {
        "id": "66db071e"
      },
      "source": [
        "### Task 13\n",
        "Count the number of unique characters in the following string s. Please ignore the white space and character case. For example, 'P' and 'p' are considered as one character"
      ]
    },
    {
      "cell_type": "code",
      "execution_count": null,
      "id": "9a360418",
      "metadata": {
        "id": "9a360418",
        "colab": {
          "base_uri": "https://localhost:8080/"
        },
        "outputId": "1fab1c4e-f951-4b75-ac8b-18eaabe96fde"
      },
      "outputs": [
        {
          "output_type": "stream",
          "name": "stdout",
          "text": [
            "14\n"
          ]
        }
      ],
      "source": [
        "s = 'Python programming is fun'\n",
        "s = s.replace(\" \", \"\").lower()\n",
        "uc = set(s)\n",
        "count = len(uc)\n",
        "print(count)\n"
      ]
    },
    {
      "cell_type": "code",
      "execution_count": null,
      "id": "81e5bbb0",
      "metadata": {
        "id": "81e5bbb0",
        "outputId": "77a108ca-d7ee-4dd3-abf0-a83b86ef3a81"
      },
      "outputs": [
        {
          "data": {
            "text/plain": [
              "14"
            ]
          },
          "execution_count": 29,
          "metadata": {},
          "output_type": "execute_result"
        }
      ],
      "source": []
    },
    {
      "cell_type": "markdown",
      "id": "00b64768",
      "metadata": {
        "id": "00b64768"
      },
      "source": [
        "### Task 14\n",
        "Use lambda expressions and the `map()` function to count the length of each string in the list"
      ]
    },
    {
      "cell_type": "code",
      "execution_count": null,
      "id": "b735d5e5",
      "metadata": {
        "id": "b735d5e5",
        "colab": {
          "base_uri": "https://localhost:8080/"
        },
        "outputId": "7db285fe-5edc-48ee-8ade-b207ea2e8201"
      },
      "outputs": [
        {
          "output_type": "stream",
          "name": "stdout",
          "text": [
            "[4, 5, 5, 6, 9, 7, 4]\n"
          ]
        }
      ],
      "source": [
        "seq = ['soup', 'apple', 'salad', 'banana', 'spaghetti', 'spinach', 'kiwi']\n",
        "print(list(map(lambda x: len(x), seq)))"
      ]
    },
    {
      "cell_type": "code",
      "execution_count": null,
      "id": "541bf0e6",
      "metadata": {
        "id": "541bf0e6",
        "outputId": "fbdbb20b-ad7b-470d-aea4-cf2fbe2a7320"
      },
      "outputs": [
        {
          "data": {
            "text/plain": [
              "[4, 5, 5, 6, 9, 7, 4]"
            ]
          },
          "execution_count": 2,
          "metadata": {},
          "output_type": "execute_result"
        }
      ],
      "source": []
    },
    {
      "cell_type": "markdown",
      "id": "aeed3974",
      "metadata": {
        "id": "aeed3974"
      },
      "source": [
        "### Task 15\n",
        "Create a function that counts the number of times the word 'dog' occurs in a string. Ignore edge cases."
      ]
    },
    {
      "cell_type": "code",
      "execution_count": 25,
      "id": "3940870f",
      "metadata": {
        "id": "3940870f",
        "outputId": "6de07a33-467d-4644-cba0-4b309f259be8",
        "colab": {
          "base_uri": "https://localhost:8080/"
        }
      },
      "outputs": [
        {
          "output_type": "execute_result",
          "data": {
            "text/plain": [
              "3"
            ]
          },
          "metadata": {},
          "execution_count": 25
        }
      ],
      "source": [
        "def countDog(s):\n",
        "  count = 0\n",
        "  for word in s.split():\n",
        "    if word == 'dog':\n",
        "      count += 1\n",
        "  return count\n",
        "countDog('This dog looks differently from that dog in the dog shelter!')\n"
      ]
    },
    {
      "cell_type": "markdown",
      "id": "05cd0e30",
      "metadata": {
        "id": "05cd0e30"
      },
      "source": [
        "### Task 16\n",
        "Write a `for` loop to process employee information listed in the cell below. For each employee with Level 1, increase the salary by 2000 and adjust the Level from 1 to 2. Display all employee information afterwards."
      ]
    },
    {
      "cell_type": "code",
      "execution_count": 4,
      "id": "df89576e",
      "metadata": {
        "id": "df89576e"
      },
      "outputs": [],
      "source": [
        "employee = {\n",
        "    'Elon Musk':{'Department':'Sales', 'Salary':6000, 'Level':2},\n",
        "    'Bill Gates': {'Department':'Engineering', 'Salary':10000, 'Level':3},\n",
        "    'Donald Trump':{'Department':'Public Relations', 'Salary':3000, 'Level':1},\n",
        "    'Joe Biden':{'Department':'Human Resources', 'Salary':5000, 'Level':2},\n",
        "    'Mark Zuckerberg':{'Department':'Engineering', 'Salary':10000, 'Level':3},\n",
        "    'Jensen Huang':{'Department':'Sales', 'Salary':4000, 'Level':1}\n",
        "}\n",
        "\n"
      ]
    },
    {
      "cell_type": "code",
      "execution_count": 5,
      "id": "2a107723",
      "metadata": {
        "id": "2a107723",
        "outputId": "7c01cbfd-56a4-40e3-ac59-76751ee7190b",
        "colab": {
          "base_uri": "https://localhost:8080/",
          "height": 211
        }
      },
      "outputs": [
        {
          "output_type": "error",
          "ename": "AttributeError",
          "evalue": "ignored",
          "traceback": [
            "\u001b[0;31m---------------------------------------------------------------------------\u001b[0m",
            "\u001b[0;31mAttributeError\u001b[0m                            Traceback (most recent call last)",
            "\u001b[0;32m<ipython-input-5-a6c9fab68a15>\u001b[0m in \u001b[0;36m<cell line: 1>\u001b[0;34m()\u001b[0m\n\u001b[0;32m----> 1\u001b[0;31m \u001b[0;32mfor\u001b[0m \u001b[0mword\u001b[0m \u001b[0;32min\u001b[0m \u001b[0memployee\u001b[0m\u001b[0;34m.\u001b[0m\u001b[0msplit\u001b[0m\u001b[0;34m(\u001b[0m\u001b[0;34m)\u001b[0m\u001b[0;34m:\u001b[0m\u001b[0;34m\u001b[0m\u001b[0;34m\u001b[0m\u001b[0m\n\u001b[0m\u001b[1;32m      2\u001b[0m   \u001b[0;32mif\u001b[0m \u001b[0mword\u001b[0m \u001b[0;34m==\u001b[0m \u001b[0;36m1\u001b[0m\u001b[0;34m:\u001b[0m\u001b[0;34m\u001b[0m\u001b[0;34m\u001b[0m\u001b[0m\n\u001b[1;32m      3\u001b[0m     \u001b[0mword\u001b[0m\u001b[0;34m+=\u001b[0m \u001b[0;36m1\u001b[0m\u001b[0;34m\u001b[0m\u001b[0;34m\u001b[0m\u001b[0m\n",
            "\u001b[0;31mAttributeError\u001b[0m: 'dict' object has no attribute 'split'"
          ]
        }
      ],
      "source": [
        "for word in employee.split():\n",
        "  if word == 1:\n",
        "    word+= 1"
      ]
    },
    {
      "cell_type": "code",
      "execution_count": null,
      "id": "42bbe4ec",
      "metadata": {
        "id": "42bbe4ec",
        "outputId": "d6bd8bfe-4d93-465d-aacb-b7a2247e2fc3"
      },
      "outputs": [
        {
          "name": "stdout",
          "output_type": "stream",
          "text": [
            "{'Elon Musk': {'Department': 'Sales', 'Salary': 6000, 'Level': 2}, 'Bill Gates': {'Department': 'Engineering', 'Salary': 10000, 'Level': 3}, 'Donald Trump': {'Department': 'Public Relations', 'Salary': 5000, 'Level': 2}, 'Joe Biden': {'Department': 'Human Resources', 'Salary': 5000, 'Level': 2}, 'Mark Zuckerberg': {'Department': 'Engineering', 'Salary': 10000, 'Level': 3}, 'Jensen Huang': {'Department': 'Sales', 'Salary': 6000, 'Level': 2}}\n"
          ]
        }
      ],
      "source": []
    }
  ],
  "metadata": {
    "kernelspec": {
      "display_name": "Python 3 (ipykernel)",
      "language": "python",
      "name": "python3"
    },
    "language_info": {
      "codemirror_mode": {
        "name": "ipython",
        "version": 3
      },
      "file_extension": ".py",
      "mimetype": "text/x-python",
      "name": "python",
      "nbconvert_exporter": "python",
      "pygments_lexer": "ipython3",
      "version": "3.9.13"
    },
    "colab": {
      "provenance": [],
      "include_colab_link": true
    }
  },
  "nbformat": 4,
  "nbformat_minor": 5
}